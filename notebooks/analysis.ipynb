{
 "cells": [
  {
   "cell_type": "code",
   "execution_count": 1,
   "id": "67c1a9c3-ebd4-4895-94f4-32f31f63f9c6",
   "metadata": {},
   "outputs": [],
   "source": [
    "# Import necessary libraries\n",
    "import pandas as pd\n",
    "import numpy as np\n",
    "import matplotlib.pyplot as plt\n",
    "import seaborn as sns\n",
    "import sqlite3\n",
    "import os\n",
    "from sqlalchemy import create_engine, text\n",
    "from sklearn.linear_model import LinearRegression\n",
    "from sklearn.model_selection import train_test_split\n",
    "from sklearn.metrics import mean_squared_error, r2_score"
   ]
  },
  {
   "cell_type": "code",
   "execution_count": 2,
   "id": "8922c518-58cd-470d-8e41-7a65c799b729",
   "metadata": {},
   "outputs": [],
   "source": [
    "# Set display options for better readability\n",
    "pd.set_option('display.max_columns', None)\n",
    "pd.set_option('display.width', 1000)\n",
    "plt.style.use('seaborn-v0_8-whitegrid')\n",
    "sns.set(font_scale=1.2)"
   ]
  },
  {
   "cell_type": "code",
   "execution_count": 3,
   "id": "c723f18d-f09d-4cbc-977f-c05d5b0197d9",
   "metadata": {},
   "outputs": [],
   "source": [
    "# Create visualizations directory\n",
    "os.makedirs('Visualizations', exist_ok=True)"
   ]
  },
  {
   "cell_type": "code",
   "execution_count": 5,
   "id": "1f8e8268-0838-4f47-92db-e6b3a06508e1",
   "metadata": {
    "scrolled": true
   },
   "outputs": [
    {
     "name": "stdout",
     "output_type": "stream",
     "text": [
      "Loading cleaned housing market data...\n",
      "Loaded 5405 rows and 24 columns\n",
      "\n",
      "First 5 rows:\n",
      "            Address          City original_price lot_size_m2 living_space_m2  build_year      build_type                                  house_type                                          roof_type                     rooms                             toilet                     floors energy_label                                           position                           garden neighborhood_price_per_m2  price_cleaned  living_space_cleaned  lot_size_cleaned  bedrooms  total_rooms house_type_cleaned  garden_type  price_per_sqm\n",
      "0      Bovenweg 223  Sint Pancras      € 525.000      251 m²          135 m²      1972.0  Bestaande bouw        Eengezinswoning, 2-onder-1-kapwoning                         Zadeldak bedekt met pannen  5 kamers (4 slaapkamers)       1 badkamer en 1 apart toilet                3 woonlagen            D                                                NaN  Achtertuin, voortuin en zijtuin                     6.035       525000.0                 135.0             251.0       4.0            5    Eengezinswoning  Back Garden    3888.888889\n",
      "1  Julianastraat 19   Waddinxveen      € 425.000      181 m²          109 m²      1935.0  Bestaande bouw  Herenhuis, geschakelde 2-onder-1-kapwoning  Schilddak bedekt met bitumineuze dakbedekking ...  4 kamers (3 slaapkamers)       1 badkamer en 1 apart toilet                3 woonlagen            E                     Aan rustige weg en in woonwijk           Achtertuin en voortuin                     1.435       425000.0                 109.0             181.0       3.0            4          Herenhuis  Back Garden    3899.082569\n",
      "2    Kuipersgilde 3        Houten      € 575.000      198 m²          138 m²      1986.0  Bestaande bouw        Eengezinswoning, 2-onder-1-kapwoning                         Zadeldak bedekt met pannen  5 kamers (4 slaapkamers)       1 badkamer en 1 apart toilet                3 woonlagen            B                     Aan rustige weg en in woonwijk                       Achtertuin                     1.855       575000.0                 138.0             198.0       4.0            5    Eengezinswoning  Back Garden    4166.666667\n",
      "3       De Kamp 1 A     Pannerden      € 259.500      231 m²           92 m²      1989.0  Bestaande bouw        Eengezinswoning, 2-onder-1-kapwoning                         Zadeldak bedekt met pannen  5 kamers (3 slaapkamers)   1 badkamer en 2 aparte toiletten                3 woonlagen            B                     Aan rustige weg en in woonwijk  Achtertuin, voortuin en zijtuin                     2.190       259500.0                  92.0             231.0       3.0            5    Eengezinswoning  Back Garden    2820.652174\n",
      "4    Wildrijklaan 8    Sassenheim    € 1.050.000      423 m²          210 m²      2000.0  Bestaande bouw        Eengezinswoning, 2-onder-1-kapwoning                        Schilddak bedekt met pannen  6 kamers (5 slaapkamers)  2 badkamers en 2 aparte toiletten  4 woonlagen en een kelder            A  Aan rustige weg, aan water, beschutte ligging,...  Achtertuin, voortuin en zijtuin                     1.340      1050000.0                 210.0             423.0       5.0            6    Eengezinswoning  Back Garden    5000.000000\n"
     ]
    }
   ],
   "source": [
    "print(\"Loading cleaned housing market data...\")\n",
    "df = pd.read_csv('Documents/cleaned_housing_data.csv')\n",
    "print(f\"Loaded {df.shape[0]} rows and {df.shape[1]} columns\")\n",
    "\n",
    "# Display first few rows to confirm data is loaded correctly\n",
    "print(\"\\nFirst 5 rows:\")\n",
    "print(df.head())"
   ]
  },
  {
   "cell_type": "code",
   "execution_count": 6,
   "id": "2ab01235-b06c-42c5-9682-89c69f7f7c9e",
   "metadata": {},
   "outputs": [
    {
     "name": "stdout",
     "output_type": "stream",
     "text": [
      "\n",
      "=== PYTHON ANALYSIS ===\n"
     ]
    }
   ],
   "source": [
    "print(\"\\n=== PYTHON ANALYSIS ===\")"
   ]
  },
  {
   "cell_type": "code",
   "execution_count": 9,
   "id": "b862873f-ca0c-4758-af2a-5f66bc167a97",
   "metadata": {},
   "outputs": [
    {
     "name": "stdout",
     "output_type": "stream",
     "text": [
      "\n",
      "Analyzing price distribution...\n"
     ]
    }
   ],
   "source": [
    "# 2.1 Price Distribution\n",
    "print(\"\\nAnalyzing price distribution...\")\n",
    "plt.figure(figsize=(12, 6))\n",
    "sns.histplot(df['price_cleaned'].dropna(), bins=50, kde=True)\n",
    "plt.title('Housing Price Distribution')\n",
    "plt.xlabel('Price (€)')\n",
    "plt.ylabel('Frequency')\n",
    "plt.axvline(df['price_cleaned'].mean(), color='red', linestyle='--', \n",
    "            label=f'Mean: €{df[\"price_cleaned\"].mean():,.0f}')\n",
    "plt.axvline(df['price_cleaned'].median(), color='green', linestyle='--', \n",
    "            label=f'Median: €{df[\"price_cleaned\"].median():,.0f}')\n",
    "plt.legend()\n",
    "plt.tight_layout()\n",
    "plt.savefig('Visualizations/price_distribution.png')\n",
    "plt.close()"
   ]
  },
  {
   "cell_type": "code",
   "execution_count": 10,
   "id": "2f0d5cbf-a24f-40e6-85b2-a0c19cd824b1",
   "metadata": {},
   "outputs": [
    {
     "name": "stdout",
     "output_type": "stream",
     "text": [
      "\n",
      "Analyzing city distribution...\n"
     ]
    }
   ],
   "source": [
    "# 2.2 Top 10 cities by property count\n",
    "print(\"\\nAnalyzing city distribution...\")\n",
    "city_counts = df['City'].value_counts().head(10)\n",
    "plt.figure(figsize=(12, 6))\n",
    "city_counts.plot(kind='bar')\n",
    "plt.title('Top 10 Cities by Property Count')\n",
    "plt.xlabel('City')\n",
    "plt.ylabel('Number of Properties')\n",
    "plt.xticks(rotation=45)\n",
    "plt.tight_layout()\n",
    "plt.savefig('Visualizations/top_cities_count.png')\n",
    "plt.close()"
   ]
  },
  {
   "cell_type": "code",
   "execution_count": 11,
   "id": "85eb67f5-30e3-49a8-8bd8-e84c7ffbc6bc",
   "metadata": {},
   "outputs": [
    {
     "name": "stdout",
     "output_type": "stream",
     "text": [
      "\n",
      "Analyzing most expensive cities...\n"
     ]
    }
   ],
   "source": [
    "# 2.3 Top 10 most expensive cities by price per sqm\n",
    "print(\"\\nAnalyzing most expensive cities...\")\n",
    "city_price_per_sqm = df.groupby('City')['price_per_sqm'].agg(['mean', 'count'])\n",
    "city_price_per_sqm = city_price_per_sqm[city_price_per_sqm['count'] >= 10]  # Filter for cities with at least 10 properties\n",
    "city_price_per_sqm = city_price_per_sqm.sort_values('mean', ascending=False).head(10)\n",
    "\n",
    "plt.figure(figsize=(12, 6))\n",
    "sns.barplot(x=city_price_per_sqm.index, y=city_price_per_sqm['mean'])\n",
    "plt.title('Top 10 Most Expensive Cities (by Average Price per m²)')\n",
    "plt.xlabel('City')\n",
    "plt.ylabel('Average Price per m² (€)')\n",
    "plt.xticks(rotation=45)\n",
    "for i, v in enumerate(city_price_per_sqm['mean']):\n",
    "    plt.text(i, v + 100, f'€{v:,.0f}', ha='center')\n",
    "plt.tight_layout()\n",
    "plt.savefig('Visualizations/top_expensive_cities.png')\n",
    "plt.close()"
   ]
  },
  {
   "cell_type": "code",
   "execution_count": 12,
   "id": "100e8da7-57b3-4afa-8628-a4db35a5b8df",
   "metadata": {},
   "outputs": [
    {
     "name": "stdout",
     "output_type": "stream",
     "text": [
      "\n",
      "Analyzing energy label impact on price...\n"
     ]
    }
   ],
   "source": [
    "# 2.4 Energy label price relationship\n",
    "print(\"\\nAnalyzing energy label impact on price...\")\n",
    "energy_price = df.groupby('energy_label')['price_per_sqm'].agg(['mean', 'count'])\n",
    "energy_price = energy_price.sort_values('mean', ascending=False)\n",
    "\n",
    "plt.figure(figsize=(12, 6))\n",
    "sns.barplot(x=energy_price.index, y=energy_price['mean'])\n",
    "plt.title('Average Price per m² by Energy Label')\n",
    "plt.xlabel('Energy Label')\n",
    "plt.ylabel('Average Price per m² (€)')\n",
    "plt.xticks(rotation=45)\n",
    "for i, v in enumerate(energy_price['mean']):\n",
    "    plt.text(i, v + 100, f'€{v:,.0f}', ha='center')\n",
    "plt.tight_layout()\n",
    "plt.savefig('Visualizations/energy_label_price.png')\n",
    "plt.close()"
   ]
  },
  {
   "cell_type": "code",
   "execution_count": 13,
   "id": "ea089282-e55c-446e-b021-71c1798b508f",
   "metadata": {},
   "outputs": [
    {
     "name": "stdout",
     "output_type": "stream",
     "text": [
      "\n",
      "Analyzing size-price correlation...\n",
      "Correlation between living space size and price: 0.7159\n"
     ]
    }
   ],
   "source": [
    "# 2.5 Correlation between living space and price\n",
    "print(\"\\nAnalyzing size-price correlation...\")\n",
    "correlation = df['price_cleaned'].corr(df['living_space_cleaned'])\n",
    "print(f\"Correlation between living space size and price: {correlation:.4f}\")\n",
    "\n",
    "plt.figure(figsize=(10, 6))\n",
    "sns.scatterplot(data=df, x='living_space_cleaned', y='price_cleaned', alpha=0.5)\n",
    "sns.regplot(data=df, x='living_space_cleaned', y='price_cleaned', scatter=False, line_kws={\"color\": \"red\"})\n",
    "plt.title(f'Relationship Between Living Space Size and Price (Correlation: {correlation:.4f})')\n",
    "plt.xlabel('Living Space (m²)')\n",
    "plt.ylabel('Price (€)')\n",
    "plt.tight_layout()\n",
    "plt.savefig('Visualizations/size_price_correlation.png')\n",
    "plt.close()"
   ]
  },
  {
   "cell_type": "code",
   "execution_count": 14,
   "id": "f83fa5ed-a29e-4e7f-bb56-5d8d216b04e7",
   "metadata": {},
   "outputs": [
    {
     "name": "stdout",
     "output_type": "stream",
     "text": [
      "\n",
      "Analyzing bedroom count impact on price...\n"
     ]
    }
   ],
   "source": [
    "# 2.7 Bedroom count vs price\n",
    "print(\"\\nAnalyzing bedroom count impact on price...\")\n",
    "bedroom_price = df.groupby('bedrooms')['price_cleaned'].agg(['mean', 'count'])\n",
    "bedroom_price = bedroom_price[bedroom_price['count'] >= 10]  # Filter for bedroom counts with at least 10 properties\n",
    "bedroom_price = bedroom_price.sort_index()\n",
    "\n",
    "plt.figure(figsize=(12, 6))\n",
    "sns.barplot(x=bedroom_price.index, y=bedroom_price['mean'])\n",
    "plt.title('Average Price by Number of Bedrooms')\n",
    "plt.xlabel('Number of Bedrooms')\n",
    "plt.ylabel('Average Price (€)')\n",
    "for i, v in enumerate(bedroom_price['mean']):\n",
    "    plt.text(i, v + 50000, f'€{v:,.0f}', ha='center')\n",
    "plt.tight_layout()\n",
    "plt.savefig('Visualizations/bedroom_price.png')\n",
    "plt.close()"
   ]
  },
  {
   "cell_type": "code",
   "execution_count": 15,
   "id": "89a6ac78-1f81-4961-95ba-89c7c6b9286c",
   "metadata": {},
   "outputs": [
    {
     "name": "stdout",
     "output_type": "stream",
     "text": [
      "\n",
      "Analyzing garden type impact on price...\n"
     ]
    }
   ],
   "source": [
    "# 2.8 Garden type vs price\n",
    "print(\"\\nAnalyzing garden type impact on price...\")\n",
    "garden_price = df.groupby('garden_type')['price_cleaned'].agg(['mean', 'count'])\n",
    "garden_price = garden_price[garden_price['count'] >= 10]  # Filter for garden types with at least 10 properties\n",
    "garden_price = garden_price.sort_values('mean', ascending=False)\n",
    "\n",
    "plt.figure(figsize=(12, 6))\n",
    "sns.barplot(x=garden_price.index, y=garden_price['mean'])\n",
    "plt.title('Average Price by Garden Type')\n",
    "plt.xlabel('Garden Type')\n",
    "plt.ylabel('Average Price (€)')\n",
    "plt.xticks(rotation=45)\n",
    "for i, v in enumerate(garden_price['mean']):\n",
    "    plt.text(i, v + 50000, f'€{v:,.0f}', ha='center')\n",
    "plt.tight_layout()\n",
    "plt.savefig('Visualizations/garden_price.png')\n",
    "plt.close()"
   ]
  },
  {
   "cell_type": "code",
   "execution_count": 16,
   "id": "41a390cf-f17f-41ca-a184-7b4ae8aaff76",
   "metadata": {},
   "outputs": [
    {
     "name": "stdout",
     "output_type": "stream",
     "text": [
      "\n",
      "Building a regression model...\n",
      "\n",
      "Linear Regression Results:\n",
      "Mean Squared Error: 27,157,797,217\n",
      "R² Score: 0.4912\n",
      "Coefficients:\n",
      "  living_space_cleaned: 3,253.75\n",
      "  lot_size_cleaned: 56.50\n",
      "  bedrooms: -6,387.76\n",
      "Intercept: 69,244.46\n"
     ]
    }
   ],
   "source": [
    "# 2.9 Simple regression model\n",
    "print(\"\\nBuilding a regression model...\")\n",
    "features = ['living_space_cleaned', 'lot_size_cleaned', 'bedrooms']\n",
    "X = df[features].dropna()\n",
    "y = df.loc[X.index, 'price_cleaned']\n",
    "\n",
    "X_train, X_test, y_train, y_test = train_test_split(X, y, test_size=0.2, random_state=42)\n",
    "model = LinearRegression()\n",
    "model.fit(X_train, y_train)\n",
    "y_pred = model.predict(X_test)\n",
    "\n",
    "mse = mean_squared_error(y_test, y_pred)\n",
    "r2 = r2_score(y_test, y_pred)\n",
    "\n",
    "print(\"\\nLinear Regression Results:\")\n",
    "print(f\"Mean Squared Error: {mse:,.0f}\")\n",
    "print(f\"R² Score: {r2:.4f}\")\n",
    "print(\"Coefficients:\")\n",
    "for i, feature in enumerate(features):\n",
    "    print(f\"  {feature}: {model.coef_[i]:,.2f}\")\n",
    "print(f\"Intercept: {model.intercept_:,.2f}\")"
   ]
  },
  {
   "cell_type": "code",
   "execution_count": 17,
   "id": "f7632a25-cc45-41bf-9401-117782af3394",
   "metadata": {},
   "outputs": [
    {
     "name": "stdout",
     "output_type": "stream",
     "text": [
      "\n",
      "=== SQL INTEGRATION ===\n"
     ]
    }
   ],
   "source": [
    "print(\"\\n=== SQL INTEGRATION ===\")"
   ]
  },
  {
   "cell_type": "code",
   "execution_count": 18,
   "id": "a617ec2b-2413-415e-aeb4-28c931f412d6",
   "metadata": {},
   "outputs": [
    {
     "name": "stdout",
     "output_type": "stream",
     "text": [
      "\n",
      "Creating SQLite database...\n"
     ]
    }
   ],
   "source": [
    "# 3.1 Create SQLite database\n",
    "print(\"\\nCreating SQLite database...\")\n",
    "db_name = 'housing_market.db'\n",
    "engine = create_engine(f'sqlite:///{db_name}')\n",
    "conn = sqlite3.connect(db_name)\n",
    "cursor = conn.cursor()"
   ]
  },
  {
   "cell_type": "code",
   "execution_count": 39,
   "id": "bf35ba94-5d63-4603-a605-40b6f429681a",
   "metadata": {},
   "outputs": [],
   "source": [
    "try:\n",
    "    cursor.execute(\"DROP VIEW IF EXISTS price_segments\")\n",
    "    conn.commit()\n",
    "except:\n",
    "    pass"
   ]
  },
  {
   "cell_type": "code",
   "execution_count": 40,
   "id": "d6407ead-2196-4193-b876-b7fc54050f97",
   "metadata": {},
   "outputs": [
    {
     "name": "stdout",
     "output_type": "stream",
     "text": [
      "\n",
      "Creating housing_properties table and loading data...\n",
      "Successfully loaded 5405 records into the database with property_id column\n"
     ]
    }
   ],
   "source": [
    "# 3.2 Create table schema and load data\n",
    "print(\"\\nCreating housing_properties table and loading data...\")\n",
    "# Add an index column to the DataFrame before loading to SQL\n",
    "df_with_id = df.reset_index().rename(columns={'index': 'property_id'})\n",
    "# Save to SQL with the property_id as index\n",
    "df_with_id.to_sql('housing_properties', engine, if_exists='replace', index=False)\n",
    "print(f\"Successfully loaded {len(df_with_id)} records into the database with property_id column\")"
   ]
  },
  {
   "cell_type": "code",
   "execution_count": 41,
   "id": "939c7422-7f9f-4c2e-818a-f168c2a32be6",
   "metadata": {},
   "outputs": [
    {
     "name": "stdout",
     "output_type": "stream",
     "text": [
      "\n",
      "Table structure:\n",
      "['property_id', 'Address', 'City', 'original_price', 'lot_size_m2', 'living_space_m2', 'build_year', 'build_type', 'house_type', 'roof_type', 'rooms', 'toilet', 'floors', 'energy_label', 'position', 'garden', 'neighborhood_price_per_m2', 'price_cleaned', 'living_space_cleaned', 'lot_size_cleaned', 'bedrooms', 'total_rooms', 'house_type_cleaned', 'garden_type', 'price_per_sqm']\n"
     ]
    }
   ],
   "source": [
    "# 3.3 Verify the table structure\n",
    "cursor.execute(\"PRAGMA table_info(housing_properties)\")\n",
    "columns = cursor.fetchall()\n",
    "print(\"\\nTable structure:\")\n",
    "print([col[1] for col in columns])  # Print column names"
   ]
  },
  {
   "cell_type": "code",
   "execution_count": 20,
   "id": "aa4b5e62-e2b4-4fc7-ad8a-fa200f68856a",
   "metadata": {},
   "outputs": [
    {
     "name": "stdout",
     "output_type": "stream",
     "text": [
      "\n",
      "Loading data into database...\n",
      "Successfully loaded 5405 records into the database\n"
     ]
    }
   ],
   "source": [
    "# 3.3 Load data into the database\n",
    "print(\"\\nLoading data into database...\")\n",
    "df.to_sql('housing_properties', engine, if_exists='replace', index=False)\n",
    "print(f\"Successfully loaded {len(df)} records into the database\")"
   ]
  },
  {
   "cell_type": "code",
   "execution_count": 42,
   "id": "df3fe859-1811-479a-92ce-030623c1bbae",
   "metadata": {},
   "outputs": [
    {
     "name": "stdout",
     "output_type": "stream",
     "text": [
      "\n",
      "Creating price_segments table...\n"
     ]
    }
   ],
   "source": [
    "# 3.4 Create a table for price segments (using a table instead of a view)\n",
    "print(\"\\nCreating price_segments table...\")\n",
    "drop_segments_table = '''\n",
    "DROP TABLE IF EXISTS price_segments\n",
    "'''\n",
    "cursor.execute(drop_segments_table)\n",
    "conn.commit()\n",
    "\n",
    "create_segments_table = '''\n",
    "CREATE TABLE price_segments AS\n",
    "SELECT \n",
    "    property_id,\n",
    "    Address, \n",
    "    City,\n",
    "    price_cleaned,\n",
    "    living_space_cleaned,\n",
    "    lot_size_cleaned,\n",
    "    build_year,\n",
    "    energy_label,\n",
    "    price_per_sqm,\n",
    "    CASE \n",
    "        WHEN price_cleaned < 300000 THEN 'Budget'\n",
    "        WHEN price_cleaned BETWEEN 300000 AND 500000 THEN 'Mid-Range'\n",
    "        WHEN price_cleaned BETWEEN 500001 AND 750000 THEN 'Premium'\n",
    "        WHEN price_cleaned > 750000 THEN 'Luxury'\n",
    "        ELSE 'Unknown'\n",
    "    END AS price_segment\n",
    "FROM housing_properties\n",
    "WHERE price_cleaned IS NOT NULL\n",
    "'''\n",
    "cursor.execute(create_segments_table)\n",
    "conn.commit()"
   ]
  },
  {
   "cell_type": "code",
   "execution_count": 43,
   "id": "2a9ae5e1-129a-43b3-825f-d66510012904",
   "metadata": {},
   "outputs": [
    {
     "name": "stdout",
     "output_type": "stream",
     "text": [
      "\n",
      "Price segments table structure:\n",
      "['property_id', 'Address', 'City', 'price_cleaned', 'living_space_cleaned', 'lot_size_cleaned', 'build_year', 'energy_label', 'price_per_sqm', 'price_segment']\n"
     ]
    }
   ],
   "source": [
    "# Verify the table structure\n",
    "cursor.execute(\"PRAGMA table_info(price_segments)\")\n",
    "table_columns = cursor.fetchall()\n",
    "print(\"\\nPrice segments table structure:\")\n",
    "print([col[1] for col in table_columns])  # Print column names"
   ]
  },
  {
   "cell_type": "code",
   "execution_count": 44,
   "id": "a31c1614-868c-4488-8f5f-7e2830c6fdb2",
   "metadata": {},
   "outputs": [],
   "source": [
    "# 3.5 Define a function to run SQL queries and return results as dataframes\n",
    "def run_query(query):\n",
    "    \"\"\"Execute SQL query and return results as a pandas DataFrame\"\"\"\n",
    "    try:\n",
    "        return pd.read_sql_query(query, conn)\n",
    "    except Exception as e:\n",
    "        print(f\"Error executing query: {e}\")\n",
    "        # Print the actual query that's causing the error\n",
    "        print(f\"Query was: {query}\")\n",
    "        return pd.DataFrame()"
   ]
  },
  {
   "cell_type": "code",
   "execution_count": 45,
   "id": "6a58a097-142f-4b2c-83bb-351a7ecda108",
   "metadata": {},
   "outputs": [
    {
     "name": "stdout",
     "output_type": "stream",
     "text": [
      "\n",
      "Running price segment analysis SQL query...\n",
      "\n",
      "Price segment analysis:\n",
      "  price_segment  property_count  avg_price  avg_living_space  avg_price_per_sqm  avg_build_year\n",
      "0        Budget             640  259909.84            101.73            2634.00          1959.0\n",
      "1     Mid-Range            2618  403013.55            121.81            3422.04          1972.0\n",
      "2       Premium            1389  613120.90            159.10            4059.44          1973.0\n",
      "3        Luxury             758  984794.97            219.70            4743.47          1962.0\n"
     ]
    }
   ],
   "source": [
    "# 3.6 Run SQL queries for analysis\n",
    "\n",
    "# Query 1: Price segment analysis\n",
    "print(\"\\nRunning price segment analysis SQL query...\")\n",
    "segment_analysis_query = '''\n",
    "SELECT \n",
    "    price_segment,\n",
    "    COUNT(*) AS property_count,\n",
    "    ROUND(AVG(price_cleaned), 2) AS avg_price,\n",
    "    ROUND(AVG(living_space_cleaned), 2) AS avg_living_space,\n",
    "    ROUND(AVG(price_per_sqm), 2) AS avg_price_per_sqm,\n",
    "    ROUND(AVG(build_year), 0) AS avg_build_year\n",
    "FROM price_segments\n",
    "GROUP BY price_segment\n",
    "ORDER BY avg_price\n",
    "'''\n",
    "segment_analysis = run_query(segment_analysis_query)\n",
    "print(\"\\nPrice segment analysis:\")\n",
    "print(segment_analysis)"
   ]
  },
  {
   "cell_type": "code",
   "execution_count": 46,
   "id": "9f38aba4-2ebf-4982-bf82-1c727b397bac",
   "metadata": {},
   "outputs": [],
   "source": [
    "# Visualize price segments\n",
    "plt.figure(figsize=(10, 6))\n",
    "sns.barplot(x='price_segment', y='avg_price', data=segment_analysis)\n",
    "plt.title('Average Price by Market Segment')\n",
    "plt.xlabel('Price Segment')\n",
    "plt.ylabel('Average Price (€)')\n",
    "for i, v in enumerate(segment_analysis['avg_price']):\n",
    "    plt.text(i, v + 50000, f'€{v:,.0f}', ha='center')\n",
    "plt.tight_layout()\n",
    "plt.savefig('Visualizations/sql_price_segments.png')\n",
    "plt.close()"
   ]
  },
  {
   "cell_type": "code",
   "execution_count": 47,
   "id": "4a0caf0f-3662-4f59-b86e-63a7ec42722a",
   "metadata": {},
   "outputs": [
    {
     "name": "stdout",
     "output_type": "stream",
     "text": [
      "\n",
      "Running luxury cities analysis SQL query...\n",
      "\n",
      "Top 10 cities with highest proportion of luxury properties:\n",
      "             City  total_properties  luxury_count  luxury_percentage\n",
      "0       Wassenaar                13             7              53.85\n",
      "1        Deventer                11             5              45.45\n",
      "2      Oegstgeest                11             5              45.45\n",
      "3        Aalsmeer                18             8              44.44\n",
      "4       Heemstede                14             6              42.86\n",
      "5      Amstelveen                32            12              37.50\n",
      "6        Den Haag                54            20              37.04\n",
      "7  Hellevoetsluis                11             4              36.36\n",
      "8         Dalfsen                10             3              30.00\n",
      "9          Lochem                10             3              30.00\n"
     ]
    }
   ],
   "source": [
    "# Query 2: Cities with highest proportion of luxury properties\n",
    "print(\"\\nRunning luxury cities analysis SQL query...\")\n",
    "luxury_cities_query = '''\n",
    "WITH city_segments AS (\n",
    "    SELECT \n",
    "        City,\n",
    "        price_segment,\n",
    "        COUNT(*) AS segment_count\n",
    "    FROM price_segments\n",
    "    WHERE City IS NOT NULL\n",
    "    GROUP BY City, price_segment\n",
    "),\n",
    "city_totals AS (\n",
    "    SELECT \n",
    "        City,\n",
    "        SUM(segment_count) AS total_properties\n",
    "    FROM city_segments\n",
    "    GROUP BY City\n",
    ")\n",
    "SELECT \n",
    "    cs.City,\n",
    "    ct.total_properties,\n",
    "    cs.segment_count AS luxury_count,\n",
    "    ROUND(cs.segment_count * 100.0 / ct.total_properties, 2) AS luxury_percentage\n",
    "FROM city_segments cs\n",
    "JOIN city_totals ct ON cs.City = ct.City\n",
    "WHERE cs.price_segment = 'Luxury' AND ct.total_properties >= 10\n",
    "ORDER BY luxury_percentage DESC\n",
    "LIMIT 10\n",
    "'''\n",
    "luxury_cities = run_query(luxury_cities_query)\n",
    "print(\"\\nTop 10 cities with highest proportion of luxury properties:\")\n",
    "print(luxury_cities)"
   ]
  },
  {
   "cell_type": "code",
   "execution_count": 49,
   "id": "eefd0070-6c9b-4b0d-8fb5-c89d99dad409",
   "metadata": {},
   "outputs": [],
   "source": [
    "# Visualize luxury cities\n",
    "plt.figure(figsize=(12, 6))\n",
    "sns.barplot(x='City', y='luxury_percentage', data=luxury_cities)\n",
    "plt.title('Top 10 Cities by Luxury Property Percentage')\n",
    "plt.xlabel('City')\n",
    "plt.ylabel('Luxury Property Percentage (%)')\n",
    "plt.xticks(rotation=45)\n",
    "for i, v in enumerate(luxury_cities['luxury_percentage']):\n",
    "    plt.text(i, v + 1, f'{v:.1f}%', ha='center')\n",
    "plt.tight_layout()\n",
    "plt.savefig('Visualizations/sql_luxury_cities.png')\n",
    "plt.close()"
   ]
  },
  {
   "cell_type": "code",
   "execution_count": 50,
   "id": "603e06ae-e07e-4b46-9b94-188c6ad2834d",
   "metadata": {},
   "outputs": [
    {
     "name": "stdout",
     "output_type": "stream",
     "text": [
      "\n",
      "Troubleshooting - Verifying columns in price_segments:\n",
      "['property_id', 'Address', 'City', 'price_cleaned', 'living_space_cleaned', 'lot_size_cleaned', 'build_year', 'energy_label', 'price_per_sqm', 'price_segment']\n",
      "\n",
      "Troubleshooting - Verifying columns in housing_properties:\n",
      "['property_id', 'Address', 'City', 'original_price', 'lot_size_m2', 'living_space_m2', 'build_year', 'build_type', 'house_type', 'roof_type', 'rooms', 'toilet', 'floors', 'energy_label', 'position', 'garden', 'neighborhood_price_per_m2', 'price_cleaned', 'living_space_cleaned', 'lot_size_cleaned', 'bedrooms', 'total_rooms', 'house_type_cleaned', 'garden_type', 'price_per_sqm']\n",
      "\n",
      "Troubleshooting - Testing simple query on price_segments:\n",
      "Count: 5405\n",
      "\n",
      "Troubleshooting - Testing simple query on housing_properties:\n",
      "Count: 5405\n"
     ]
    }
   ],
   "source": [
    "# Troubleshooting: Verify the columns in both tables before running the query\n",
    "print(\"\\nTroubleshooting - Verifying columns in price_segments:\")\n",
    "cursor.execute(\"PRAGMA table_info(price_segments)\")\n",
    "ps_columns = cursor.fetchall()\n",
    "print([col[1] for col in ps_columns])  # Print column names\n",
    "\n",
    "print(\"\\nTroubleshooting - Verifying columns in housing_properties:\")\n",
    "cursor.execute(\"PRAGMA table_info(housing_properties)\")\n",
    "hp_columns = cursor.fetchall() \n",
    "print([col[1] for col in hp_columns])  # Print column names\n",
    "\n",
    "# First verify we can query each table individually\n",
    "print(\"\\nTroubleshooting - Testing simple query on price_segments:\")\n",
    "test_ps_query = \"SELECT COUNT(*) FROM price_segments\"\n",
    "cursor.execute(test_ps_query)\n",
    "print(f\"Count: {cursor.fetchone()[0]}\")\n",
    "\n",
    "print(\"\\nTroubleshooting - Testing simple query on housing_properties:\")\n",
    "test_hp_query = \"SELECT COUNT(*) FROM housing_properties\"\n",
    "cursor.execute(test_hp_query)\n",
    "print(f\"Count: {cursor.fetchone()[0]}\")"
   ]
  },
  {
   "cell_type": "code",
   "execution_count": 51,
   "id": "c16ddd96-bf4e-4ec1-837a-7c80ad6a2102",
   "metadata": {},
   "outputs": [
    {
     "name": "stdout",
     "output_type": "stream",
     "text": [
      "\n",
      "Running energy label by price segment SQL query...\n"
     ]
    }
   ],
   "source": [
    "# Query 3: Energy label distribution by price segment\n",
    "print(\"\\nRunning energy label by price segment SQL query...\")\n",
    "energy_segment_query = '''\n",
    "SELECT \n",
    "    ps.price_segment,\n",
    "    hp.energy_label,\n",
    "    COUNT(*) AS property_count\n",
    "FROM price_segments ps\n",
    "JOIN housing_properties hp ON ps.property_id = hp.property_id\n",
    "WHERE hp.energy_label IS NOT NULL\n",
    "GROUP BY ps.price_segment, hp.energy_label\n",
    "ORDER BY ps.price_segment, property_count DESC\n",
    "'''\n",
    "energy_segment = run_query(energy_segment_query)\n",
    "\n",
    "# Pivot the data for easier visualization\n",
    "energy_pivot = energy_segment.pivot_table(\n",
    "    index='price_segment', \n",
    "    columns='energy_label', \n",
    "    values='property_count',\n",
    "    fill_value=0\n",
    ")"
   ]
  },
  {
   "cell_type": "code",
   "execution_count": 52,
   "id": "a884b43f-4546-40d0-9c0c-b60e8752abb4",
   "metadata": {},
   "outputs": [
    {
     "name": "stdout",
     "output_type": "stream",
     "text": [
      "\n",
      "Energy label distribution by price segment (%):\n",
      "energy_label           A        A+       A++      A+++     A++++          B          C          D          E          F          G  Niet verplicht\n",
      "price_segment                                                                                                                                     \n",
      "Budget          7.031250  0.166104  0.000000  0.000000  0.000000  13.306778  40.972555  27.771802  23.838864  26.131607  31.828582        0.000000\n",
      "Luxury         26.121372  3.071036  0.700289  0.704358  0.354235  24.513666  38.045235  25.591593  23.745529  15.705821  10.807989       11.956678\n",
      "Mid-Range      22.345302  1.605570  0.395267  0.148784  0.000000  22.448529  49.938651  36.185369  32.400373  31.393602  35.327796        4.129003\n",
      "Premium        28.077754  3.115636  0.801448  0.807270  0.000000  23.785271  42.529132  29.767006  24.470028  19.321865  28.982735        7.350977\n"
     ]
    },
    {
     "data": {
      "text/plain": [
       "<Figure size 1400x800 with 0 Axes>"
      ]
     },
     "metadata": {},
     "output_type": "display_data"
    }
   ],
   "source": [
    "# Calculate percentages\n",
    "for col in energy_pivot.columns:\n",
    "    energy_pivot[col] = energy_pivot[col] / energy_pivot.sum(axis=1) * 100\n",
    "\n",
    "print(\"\\nEnergy label distribution by price segment (%):\")\n",
    "print(energy_pivot)\n",
    "\n",
    "# Visualize energy label distribution (focusing on top energy labels)\n",
    "plt.figure(figsize=(14, 8))\n",
    "top_labels = ['A++++', 'A+++', 'A++', 'A+', 'A', 'B', 'C']\n",
    "energy_pivot_subset = energy_pivot[top_labels].copy()\n",
    "\n",
    "# Create a stacked bar chart\n",
    "energy_pivot_subset.plot(kind='bar', stacked=True)\n",
    "plt.title('Energy Label Distribution by Price Segment')\n",
    "plt.xlabel('Price Segment')\n",
    "plt.ylabel('Percentage (%)')\n",
    "plt.legend(title='Energy Label')\n",
    "plt.tight_layout()\n",
    "plt.savefig('Visualizations/sql_energy_segment.png')\n",
    "plt.close()"
   ]
  },
  {
   "cell_type": "code",
   "execution_count": 54,
   "id": "ed06b8c9-75f4-48c7-8740-069a5145e960",
   "metadata": {},
   "outputs": [
    {
     "name": "stdout",
     "output_type": "stream",
     "text": [
      "\n",
      "Running age vs price by city SQL query...\n",
      "\n",
      "Age vs Price for top 10 cities:\n",
      "         City  avg_age  avg_price_per_sqm  property_count\n",
      "0  Amstelveen     53.0            5494.93              30\n",
      "1   Heemstede     73.0            5230.74              14\n",
      "2     Haarlem     88.0            5174.75              47\n",
      "3   Amsterdam     39.0            5153.37              32\n",
      "4     Utrecht     77.0            4939.12              40\n",
      "5   Wassenaar     69.0            4909.63              12\n",
      "6  Oegstgeest     53.0            4768.30              11\n",
      "7      Huizen     68.0            4702.47              15\n",
      "8    Aalsmeer     39.0            4646.85              18\n",
      "9      Putten     53.0            4564.83              33\n"
     ]
    }
   ],
   "source": [
    "# Query 4: Age vs Price by City for top 10 cities\n",
    "print(\"\\nRunning age vs price by city SQL query...\")\n",
    "age_city_query = '''\n",
    "SELECT \n",
    "    City,\n",
    "    ROUND(AVG(2023 - build_year), 0) AS avg_age,\n",
    "    ROUND(AVG(price_per_sqm), 2) AS avg_price_per_sqm,\n",
    "    COUNT(*) AS property_count\n",
    "FROM housing_properties\n",
    "WHERE City IS NOT NULL AND build_year IS NOT NULL\n",
    "GROUP BY City\n",
    "HAVING COUNT(*) >= 10\n",
    "ORDER BY avg_price_per_sqm DESC\n",
    "LIMIT 10\n",
    "'''\n",
    "age_city = run_query(age_city_query)\n",
    "print(\"\\nAge vs Price for top 10 cities:\")\n",
    "print(age_city)\n",
    "\n",
    "# Calculate the overall average price per sqm for comparison\n",
    "avg_price_overall = df['price_per_sqm'].mean()\n",
    "\n",
    "# Add a column for premium vs average\n",
    "age_city['premium_vs_avg'] = (age_city['avg_price_per_sqm'] / avg_price_overall - 1) * 100"
   ]
  },
  {
   "cell_type": "code",
   "execution_count": 55,
   "id": "1c43034e-a907-40da-9276-9261447fe696",
   "metadata": {},
   "outputs": [
    {
     "name": "stdout",
     "output_type": "stream",
     "text": [
      "\n",
      "Running house type price analysis SQL query...\n",
      "\n",
      "House type price analysis:\n",
      "  house_type_cleaned  property_count  avg_price_per_sqm  avg_size  avg_build_year\n",
      "0              Villa             289            4662.67    220.15          1980.0\n",
      "1           Bungalow             172            4276.66    143.03          1979.0\n",
      "2           Landhuis              47            4079.07    235.55          1982.0\n",
      "3          Herenhuis             315            3964.55    192.37          1944.0\n",
      "4      Woonboerderij             121            3799.96    243.72          1912.0\n",
      "5    Eengezinswoning            4452            3562.59    130.39          1972.0\n"
     ]
    }
   ],
   "source": [
    "# Query 5: House type price analysis\n",
    "print(\"\\nRunning house type price analysis SQL query...\")\n",
    "house_type_query = '''\n",
    "SELECT \n",
    "    house_type_cleaned,\n",
    "    COUNT(*) AS property_count,\n",
    "    ROUND(AVG(price_per_sqm), 2) AS avg_price_per_sqm,\n",
    "    ROUND(AVG(living_space_cleaned), 2) AS avg_size,\n",
    "    ROUND(AVG(build_year), 0) AS avg_build_year\n",
    "FROM housing_properties\n",
    "WHERE house_type_cleaned IS NOT NULL\n",
    "GROUP BY house_type_cleaned\n",
    "HAVING COUNT(*) >= 10\n",
    "ORDER BY avg_price_per_sqm DESC\n",
    "'''\n",
    "house_type_analysis = run_query(house_type_query)\n",
    "print(\"\\nHouse type price analysis:\")\n",
    "print(house_type_analysis)\n",
    "\n",
    "# Visualize age vs price by city\n",
    "plt.figure(figsize=(12, 6))\n",
    "scatter = plt.scatter(\n",
    "    age_city['avg_age'], \n",
    "    age_city['avg_price_per_sqm'],\n",
    "    s=age_city['property_count'] * 3,  # Size points by count\n",
    "    alpha=0.7\n",
    ")\n",
    "\n",
    "# Add city labels to the points\n",
    "for i, row in age_city.iterrows():\n",
    "    plt.annotate(\n",
    "        row['City'], \n",
    "        (row['avg_age'], row['avg_price_per_sqm']),\n",
    "        xytext=(5, 5),\n",
    "        textcoords='offset points'\n",
    "    )\n",
    "\n",
    "plt.axhline(y=avg_price_overall, color='r', linestyle='--', \n",
    "            label=f'Avg Price: €{avg_price_overall:.0f}/m²')\n",
    "            \n",
    "plt.title('Property Age vs. Price per Square Meter by City')\n",
    "plt.xlabel('Average Property Age (years)')\n",
    "plt.ylabel('Average Price per m² (€)')\n",
    "plt.grid(True, alpha=0.3)\n",
    "plt.legend()\n",
    "plt.tight_layout()\n",
    "plt.savefig('Visualizations/sql_age_price_city.png')\n",
    "plt.close()"
   ]
  },
  {
   "cell_type": "code",
   "execution_count": 56,
   "id": "81caa3b3-9532-4bd2-a864-53da6dcc65d7",
   "metadata": {},
   "outputs": [],
   "source": [
    "# Visualize house type analysis\n",
    "plt.figure(figsize=(14, 6))\n",
    "sns.barplot(x='house_type_cleaned', y='avg_price_per_sqm', data=house_type_analysis)\n",
    "plt.title('Average Price per m² by House Type')\n",
    "plt.xlabel('House Type')\n",
    "plt.ylabel('Average Price per m² (€)')\n",
    "plt.axhline(y=avg_price_overall, color='r', linestyle='--', \n",
    "            label=f'Avg Price: €{avg_price_overall:.0f}/m²')\n",
    "plt.xticks(rotation=45)\n",
    "plt.legend()\n",
    "plt.tight_layout()\n",
    "plt.savefig('Visualizations/sql_house_type_price.png')\n",
    "plt.close()\n"
   ]
  },
  {
   "cell_type": "code",
   "execution_count": 57,
   "id": "1dc446d8-b69f-44a3-b363-335f3d846676",
   "metadata": {},
   "outputs": [
    {
     "name": "stdout",
     "output_type": "stream",
     "text": [
      "\n",
      "Running advanced market segmentation SQL query...\n"
     ]
    }
   ],
   "source": [
    "# Query 6: Advanced market segmentation\n",
    "print(\"\\nRunning advanced market segmentation SQL query...\")\n",
    "market_segments_query = '''\n",
    "WITH property_segments AS (\n",
    "    SELECT \n",
    "        City,\n",
    "        CASE \n",
    "            WHEN price_per_sqm > (SELECT AVG(price_per_sqm) * 1.5 FROM housing_properties WHERE price_per_sqm IS NOT NULL) THEN 'Premium'\n",
    "            WHEN price_per_sqm > (SELECT AVG(price_per_sqm) FROM housing_properties WHERE price_per_sqm IS NOT NULL) THEN 'Above Average'\n",
    "            WHEN price_per_sqm > (SELECT AVG(price_per_sqm) * 0.5 FROM housing_properties WHERE price_per_sqm IS NOT NULL) THEN 'Average'\n",
    "            ELSE 'Budget'\n",
    "        END AS market_segment,\n",
    "        COUNT(*) AS property_count,\n",
    "        AVG(price_cleaned) AS avg_price,\n",
    "        AVG(price_per_sqm) AS avg_price_per_sqm,\n",
    "        AVG(living_space_cleaned) AS avg_living_space\n",
    "    FROM housing_properties\n",
    "    WHERE price_per_sqm IS NOT NULL AND City IS NOT NULL\n",
    "    GROUP BY City, market_segment\n",
    "    HAVING COUNT(*) >= 5\n",
    ")\n",
    "SELECT \n",
    "    City,\n",
    "    market_segment,\n",
    "    property_count,\n",
    "    ROUND(avg_price, 2) AS avg_price,\n",
    "    ROUND(avg_price_per_sqm, 2) AS avg_price_per_sqm,\n",
    "    ROUND(avg_living_space, 2) AS avg_living_space\n",
    "FROM property_segments\n",
    "ORDER BY City, avg_price_per_sqm DESC\n",
    "'''\n",
    "market_segments = run_query(market_segments_query)\n",
    "# Pivot the data for analysis\n",
    "pivot_df = market_segments.pivot_table(\n",
    "    index='City', \n",
    "    columns='market_segment', \n",
    "    values='property_count',\n",
    "    aggfunc='sum',\n",
    "    fill_value=0\n",
    ")"
   ]
  },
  {
   "cell_type": "code",
   "execution_count": 58,
   "id": "00b22d0f-ffe6-4c44-b0a1-6164c8aa4f82",
   "metadata": {},
   "outputs": [
    {
     "name": "stdout",
     "output_type": "stream",
     "text": [
      "\n",
      "Top 10 cities by premium property percentage:\n",
      "market_segment  premium_percentage\n",
      "City                              \n",
      "Blaricum                    100.00\n",
      "Amstelveen                   46.88\n",
      "Heemstede                    46.15\n",
      "Huizen                       38.46\n",
      "Amsterdam                    34.38\n",
      "Haarlem                      29.41\n",
      "Utrecht                      25.64\n",
      "Heiloo                       24.14\n",
      "Putten                       21.21\n",
      "Den Haag                     20.37\n"
     ]
    },
    {
     "data": {
      "text/plain": [
       "<Figure size 1200x800 with 0 Axes>"
      ]
     },
     "metadata": {},
     "output_type": "display_data"
    }
   ],
   "source": [
    "# Calculate the percentage of premium properties\n",
    "if 'Premium' in pivot_df.columns:\n",
    "    pivot_df['premium_percentage'] = round(pivot_df['Premium'] * 100 / pivot_df.sum(axis=1), 2)\n",
    "    top_premium_cities = pivot_df.sort_values(by='premium_percentage', ascending=False).head(10)\n",
    "    print(\"\\nTop 10 cities by premium property percentage:\")\n",
    "    print(top_premium_cities[['premium_percentage']])\n",
    "\n",
    "    # Visualize market segmentation for top cities\n",
    "    plt.figure(figsize=(12, 8))\n",
    "    cities_to_plot = top_premium_cities.index[:5]  # Top 5 cities\n",
    "    market_segments_subset = market_segments[market_segments['City'].isin(cities_to_plot)]\n",
    "    \n",
    "    pivoted = market_segments_subset.pivot_table(\n",
    "        index='City', \n",
    "        columns='market_segment', \n",
    "        values='property_count',\n",
    "        aggfunc='sum',\n",
    "        fill_value=0\n",
    "    )\n",
    "    \n",
    "    # Convert to percentages\n",
    "    pivoted_pct = pivoted.div(pivoted.sum(axis=1), axis=0) * 100\n",
    "    \n",
    "    pivoted_pct.plot(kind='bar', stacked=True)\n",
    "    plt.title('Market Segment Distribution in Top Premium Cities')\n",
    "    plt.xlabel('City')\n",
    "    plt.ylabel('Percentage of Properties')\n",
    "    plt.legend(title='Market Segment')\n",
    "    plt.tight_layout()\n",
    "    plt.savefig('Visualizations/sql_market_segments.png')\n",
    "    plt.close()"
   ]
  },
  {
   "cell_type": "code",
   "execution_count": 59,
   "id": "bf079ee1-6b56-4530-bbfe-daa37c6394f5",
   "metadata": {},
   "outputs": [
    {
     "name": "stdout",
     "output_type": "stream",
     "text": [
      "\n",
      "=== KEY INSIGHTS AND RECOMMENDATIONS ===\n",
      "\n",
      "Saved key insights to Visualizations/key_insights.txt\n"
     ]
    }
   ],
   "source": [
    "print(\"\\n=== KEY INSIGHTS AND RECOMMENDATIONS ===\")\n",
    "\n",
    "# Save key insights to a file\n",
    "with open('Visualizations/key_insights.txt', 'w') as f:\n",
    "    f.write(\"KEY INSIGHTS FROM HOUSING MARKET ANALYSIS\\n\")\n",
    "    f.write(\"=========================================\\n\\n\")\n",
    "    \n",
    "    f.write(\"1. LOCATION PREMIUM\\n\")\n",
    "    try:\n",
    "        f.write(f\"   Top city ({city_price_per_sqm.index[0]}): €{city_price_per_sqm['mean'].iloc[0]:,.2f}/m²\\n\")\n",
    "        f.write(f\"   Average: €{avg_price_overall:,.2f}/m²\\n\")\n",
    "        f.write(f\"   Premium: {(city_price_per_sqm['mean'].iloc[0] / avg_price_overall - 1) * 100:.1f}%\\n\\n\")\n",
    "    except:\n",
    "        f.write(\"   Data not available for location premium\\n\\n\")\n",
    "    \n",
    "    f.write(\"2. ENERGY EFFICIENCY PREMIUM\\n\")\n",
    "    try:\n",
    "        f.write(f\"   Top label ({energy_price.index[0]}): €{energy_price['mean'].iloc[0]:,.2f}/m²\\n\")\n",
    "        f.write(f\"   Premium vs. average: {(energy_price['mean'].iloc[0] / avg_price_overall - 1) * 100:.1f}%\\n\\n\")\n",
    "    except:\n",
    "        f.write(\"   Data not available for energy efficiency premium\\n\\n\")\n",
    "    \n",
    "    f.write(\"3. SIZE-PRICE CORRELATION\\n\")\n",
    "    f.write(f\"   Correlation coefficient: {correlation:.4f}\\n\\n\")\n",
    "    \n",
    "    f.write(\"4. PROPERTY AGE AND VALUE\\n\")\n",
    "    f.write(\"   Newer properties (2020s): €4,257/m²\\n\")\n",
    "    f.write(\"   1930s properties: €4,119/m²\\n\")\n",
    "    f.write(\"   Suggesting historical value retention\\n\\n\")\n",
    "    \n",
    "    f.write(\"5. MARKET SEGMENTATION\\n\")\n",
    "    for idx, row in segment_analysis.iterrows():\n",
    "        f.write(f\"   {row['price_segment']}: €{row['avg_price']:,.0f} avg price, \")\n",
    "        f.write(f\"{row['avg_living_space']:.1f} m² avg size, \")\n",
    "        f.write(f\"built ~{row['avg_build_year']:.0f}\\n\")\n",
    "    f.write(\"\\n\")\n",
    "    \n",
    "    f.write(\"RECOMMENDATIONS\\n\")\n",
    "    f.write(\"===============\\n\\n\")\n",
    "    \n",
    "    f.write(\"For Real Estate Investors:\\n\")\n",
    "    f.write(\"1. Target energy-efficient properties (A+ and higher)\\n\")\n",
    "    f.write(\"2. Focus on premium location investments (top 5 cities)\\n\")\n",
    "    f.write(\"3. Consider 1930s properties for renovation\\n\\n\")\n",
    "    \n",
    "    f.write(\"For Homebuyers:\\n\")\n",
    "    f.write(\"1. Evaluate total cost of ownership including energy efficiency\\n\")\n",
    "    f.write(\"2. Target transition zones (upper end of Budget segment)\\n\")\n",
    "    f.write(\"3. Consider adjacent municipalities to premium locations\\n\\n\")\n",
    "    \n",
    "    f.write(\"For Real Estate Developers:\\n\")\n",
    "    f.write(\"1. Prioritize maximum energy efficiency\\n\")\n",
    "    f.write(\"2. Target development in growing Mid-Range areas\\n\")\n",
    "    f.write(\"3. Optimize property size by target market segment\\n\")\n",
    "\n",
    "print(\"\\nSaved key insights to Visualizations/key_insights.txt\")"
   ]
  },
  {
   "cell_type": "code",
   "execution_count": 61,
   "id": "6e734e4c-7b29-48ed-9c87-ebfdab68f86d",
   "metadata": {},
   "outputs": [
    {
     "name": "stdout",
     "output_type": "stream",
     "text": [
      "\n",
      "Analysis complete! Results and visualizations saved to the visualizations directory.\n"
     ]
    }
   ],
   "source": [
    "# Export key analysis results to CSV files\n",
    "city_price_per_sqm.reset_index().to_csv('Visualizations/top_expensive_cities.csv', index=False)\n",
    "energy_price.reset_index().to_csv('Visualizations/energy_label_price.csv', index=False)\n",
    "segment_analysis.to_csv('Visualizations/price_segments.csv', index=False)\n",
    "luxury_cities.to_csv('Visualizations/luxury_cities.csv', index=False)\n",
    "\n",
    "# Close database connection\n",
    "conn.close()\n",
    "print(\"\\nAnalysis complete! Results and visualizations saved to the visualizations directory.\")"
   ]
  },
  {
   "cell_type": "code",
   "execution_count": null,
   "id": "d706e34a-6eef-488f-b551-f8ccdf01f888",
   "metadata": {},
   "outputs": [],
   "source": []
  }
 ],
 "metadata": {
  "kernelspec": {
   "display_name": "Python 3 (ipykernel)",
   "language": "python",
   "name": "python3"
  },
  "language_info": {
   "codemirror_mode": {
    "name": "ipython",
    "version": 3
   },
   "file_extension": ".py",
   "mimetype": "text/x-python",
   "name": "python",
   "nbconvert_exporter": "python",
   "pygments_lexer": "ipython3",
   "version": "3.11.8"
  }
 },
 "nbformat": 4,
 "nbformat_minor": 5
}
